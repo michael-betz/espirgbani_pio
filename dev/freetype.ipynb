{
 "cells": [
  {
   "cell_type": "code",
   "execution_count": 4,
   "id": "8bcba3aa-82a1-4cbc-972a-088adb17dcc7",
   "metadata": {},
   "outputs": [
    {
     "name": "stdout",
     "output_type": "stream",
     "text": [
      "%pylab is deprecated, use %matplotlib inline and import the required libraries.\n",
      "Populating the interactive namespace from numpy and matplotlib\n"
     ]
    },
    {
     "name": "stderr",
     "output_type": "stream",
     "text": [
      "/home/michael/.virtualenvs/ipy/lib/python3.12/site-packages/IPython/core/magics/pylab.py:166: UserWarning: pylab import has clobbered these variables: ['cast', 'resize']\n",
      "`%matplotlib` prevents importing * from pylab and numpy\n",
      "  warn(\"pylab import has clobbered these variables: %s\"  % clobbered +\n"
     ]
    }
   ],
   "source": [
    "%pylab widget\n",
    "import freetype as ft\n",
    "import numpy as np\n",
    "import matplotlib.pyplot as plt\n",
    "from PIL import Image\n",
    "from struct import pack, calcsize\n",
    "\n",
    "def get_glyph(code, is_outline=False):\n",
    "    face.load_char(code, FT_LOAD_RENDER)\n",
    "    bitmap = face.glyph.bitmap\n",
    "    width  = face.glyph.bitmap.width\n",
    "    rows   = face.glyph.bitmap.rows\n",
    "\n",
    "    props = {\n",
    "        'width': width,\n",
    "        'height': rows,\n",
    "        'lsb': face.glyph.bitmap_left,\n",
    "        'tsb': face.glyph.bitmap_top,\n",
    "        'advance': face.glyph.advance.x // 64\n",
    "    }   \n",
    "    return bytes(bitmap.buffer), props\n",
    "\n",
    "def getImg(ind, dump=False):\n",
    "    p = glyph_props[ind]\n",
    "    \n",
    "    start_ind = p['start_index']\n",
    "    end_ind = start_ind + p['width'] * p['height']\n",
    "\n",
    "    bs = glyph_data_bs[start_ind: end_ind]\n",
    "    if dump:\n",
    "        hd(bs)\n",
    "    return Image.frombuffer('L', (p['width'], p['height']), bs)\n",
    "\n",
    "def get_y_stats(glyph_props):\n",
    "    us = []\n",
    "    ls = []\n",
    "    for i in range(16, 27):\n",
    "        p = glyph_props[i]\n",
    "        y_max = p[\"tsb\"]\n",
    "        y_min = p[\"tsb\"] - p[\"height\"]\n",
    "        # print(f'{y_max:3d}  {y_min:3d}')\n",
    "        us.append(y_max)\n",
    "        ls.append(y_min)\n",
    "    \n",
    "    bb_up = int(max(us))\n",
    "    bb_down = int(min(ls))\n",
    "    bb_mid = (bb_up + bb_down) / 2\n",
    "    \n",
    "    bb_height = bb_up - bb_down\n",
    "    yshift = int(round(16 - bb_mid))\n",
    "    \n",
    "    return bb_height, yshift\n",
    "\n",
    "def hd(dat, pad_width=1, word_width=None):\n",
    "    ''' print a hex-dump, word_width in bytes '''\n",
    "    if word_width is None:\n",
    "        word_width = pad_width\n",
    "    for i, d in enumerate(dat):\n",
    "        if i % 8 == 0 and len(dat) > 8:\n",
    "            print('\\n{:04x}: '.format(i * word_width), end='')\n",
    "        print('{:0{ww}x} '.format(d, ww=pad_width * 2), end='')\n",
    "    print()"
   ]
  },
  {
   "cell_type": "code",
   "execution_count": 111,
   "id": "c7904248-7cfb-4de1-a4d3-35ba2528953d",
   "metadata": {},
   "outputs": [],
   "source": [
    "def get_all_cps(face):\n",
    "    face.select_charmap(FT_ENCODING_UNICODE)\n",
    "    \n",
    "    all_chars = []\n",
    "    all_chars.append(face.get_first_char()[0])\n",
    "    \n",
    "    while True:\n",
    "        all_chars.append(face.get_next_char(all_chars[-1], 0)[0])\n",
    "        if all_chars[-1] == 0:\n",
    "            break\n",
    "    return all_chars"
   ]
  },
  {
   "cell_type": "code",
   "execution_count": null,
   "id": "ccc0dd41-2e68-474a-a480-77eac3ed1238",
   "metadata": {
    "scrolled": true
   },
   "outputs": [],
   "source": [
    "get_all_cps(face)"
   ]
  },
  {
   "cell_type": "markdown",
   "id": "ccc4acbb-aebc-4716-aa42-d02e3a87ca4b",
   "metadata": {},
   "source": [
    "# Generate file"
   ]
  },
  {
   "cell_type": "code",
   "execution_count": 18,
   "id": "8b1661b8-7880-4159-80b7-26b0894e0015",
   "metadata": {},
   "outputs": [
    {
     "data": {
      "text/plain": [
       "350"
      ]
     },
     "execution_count": 18,
     "metadata": {},
     "output_type": "execute_result"
    }
   ],
   "source": [
    "face = Face('./Ubuntu-Regular.ttf')\n",
    "face.select_charmap(FT_ENCODING_UNICODE)\n",
    "face.set_char_size(width=33 * 64)\n",
    "\n",
    "glyph_data_bs = bytes()\n",
    "glyph_props = []\n",
    "\n",
    "# for c in arange(0x20, 0x20 + 95):\n",
    "for c in [128512]:\n",
    "    # print(hex(c), chr(c))\n",
    "\n",
    "    buf, props = get_glyph(chr(c))\n",
    "\n",
    "    props[\"start_index\"] =  len(glyph_data_bs)\n",
    "    props[\"end_index\"] =  len(glyph_data_bs) + len(buf)\n",
    "    glyph_props.append(props)\n",
    "    \n",
    "    glyph_data_bs += buf\n",
    "    \n",
    "len(glyph_data_bs)"
   ]
  },
  {
   "cell_type": "code",
   "execution_count": 11,
   "id": "c10974b7-0f98-418d-b4f6-3f4aa210ab34",
   "metadata": {
    "scrolled": true
   },
   "outputs": [
    {
     "data": {
      "text/plain": [
       "[{'width': 14,\n",
       "  'height': 25,\n",
       "  'lsb': 1,\n",
       "  'tsb': 25,\n",
       "  'advance': 17,\n",
       "  'start_index': 0,\n",
       "  'end_index': 350}]"
      ]
     },
     "execution_count": 11,
     "metadata": {},
     "output_type": "execute_result"
    }
   ],
   "source": [
    "glyph_props"
   ]
  },
  {
   "cell_type": "markdown",
   "id": "cbec4230-4467-4867-8582-38cece5603e3",
   "metadata": {},
   "source": [
    "# Generate the glyph description table\n",
    "```C\n",
    "typedef struct {\n",
    "    uint8_t width;  // bitmap width [pixels]\n",
    "    uint8_t height;  // bitmap height [pixels]\n",
    "    int8_t lsb;  // left side bearing\n",
    "    int8_t tsb;  // top side bearing\n",
    "    int8_t advance;  // cursor advance width\n",
    "    uint32_t start_index;  // offset to first byte of bitmap data (relative to start of glyph description table)\n",
    "} glyph_description_t;\n",
    "```"
   ]
  },
  {
   "cell_type": "code",
   "execution_count": 12,
   "id": "e51f65e9-219d-46a9-8bab-2e65fa4cd48c",
   "metadata": {},
   "outputs": [
    {
     "data": {
      "text/plain": [
       "12"
      ]
     },
     "execution_count": 12,
     "metadata": {},
     "output_type": "execute_result"
    }
   ],
   "source": [
    "fmtGlyphDescription = \"BBbbbI\"\n",
    "\n",
    "glyph_description_bs = bytes()\n",
    "for p in glyph_props:\n",
    "    bs = pack(fmtGlyphDescription, p['width'], p['height'], p['lsb'], p['tsb'], p['advance'], p['start_index'])\n",
    "    glyph_description_bs += bs\n",
    "\n",
    "len(glyph_description_bs)"
   ]
  },
  {
   "cell_type": "markdown",
   "id": "bf008edf-ee98-4431-8c33-56fc1c52010c",
   "metadata": {},
   "source": [
    "# Generate the font description"
   ]
  },
  {
   "cell_type": "markdown",
   "id": "a068a9f6-9b08-4792-a9cf-1bc46d87c801",
   "metadata": {},
   "source": [
    "```C\n",
    "typedef struct {\n",
    "    uint16_t n_glyphs;  // number of glyphs in this font file\n",
    "    // simple ascci mapping parameters\n",
    "    uint16_t map_start = 32;  // the first glyph maps to this codepoint\n",
    "    uint16_t map_n = 96;  // how many glyphs map to incremental codepoints\n",
    "    // offset to optional glyph id to codepoint mapping table\n",
    "    uint16_t map_table_offset = glyph_description_offset;\n",
    "    uint32_t glyph_description_offset;\n",
    "    uint32_t glyph_data_offset;\n",
    "    uint16_t linespace;\n",
    "    int8_t yshift;  // to vertically center the digits, add this to tsb\n",
    "    // bit0: has_outline. glyph index of outline = glyph index of fill * 2\n",
    "    uint8_t flags;\n",
    "    const char[] name; // length = map_table_offset - sizeof(font_header_t)\n",
    "} font_header_t;\n",
    "```"
   ]
  },
  {
   "cell_type": "code",
   "execution_count": 29,
   "id": "ddc251f3-2958-4b37-a365-a9af77614cfe",
   "metadata": {},
   "outputs": [
    {
     "name": "stdout",
     "output_type": "stream",
     "text": [
      "24 12\n"
     ]
    },
    {
     "data": {
      "text/plain": [
       "b'\\xbeTZ\\x00_\\x00 \\x00_\\x00\\x1f\\x00\\x1f\\x00\\x00\\x00\\x93\\x04\\x00\\x00&\\x00\\x04\\x00'"
      ]
     },
     "execution_count": 29,
     "metadata": {},
     "output_type": "execute_result"
    }
   ],
   "source": [
    "fmtHeader = \"IHHHHIIHbB\"\n",
    "print(calcsize(fmtHeader), calcsize(fmtGlyphDescription))\n",
    "\n",
    "n_glyphs = len(glyph_props)\n",
    "map_start = 0x20\n",
    "map_n = len(glyph_props)\n",
    "\n",
    "name = face.family_name\n",
    "len_header = calcsize(fmtHeader) + len(name) + 1\n",
    "\n",
    "map_table_offset = glyph_description_offset = len_header\n",
    "glyph_data_offset = map_table_offset + len(glyph_description_bs)\n",
    "\n",
    "linespace = face.size.height // 64\n",
    "_, yshift = get_y_stats(glyph_props)\n",
    "\n",
    "FLAG_HAS_OUTLINE = 1\n",
    "flags = 0\n",
    "\n",
    "font_header_bs = pack(\n",
    "    fmtHeader,  # 20 bytes\n",
    "    0x005A54BE,  # magic number\n",
    "    n_glyphs, \n",
    "    map_start, \n",
    "    map_n, \n",
    "    map_table_offset, \n",
    "    glyph_description_offset, \n",
    "    glyph_data_offset,\n",
    "    linespace,\n",
    "    yshift,\n",
    "    flags\n",
    ")\n",
    "\n",
    "font_header_bs"
   ]
  },
  {
   "cell_type": "code",
   "execution_count": 30,
   "id": "6ba0fe09-ed30-49fa-96e8-ea5c17dc80fe",
   "metadata": {},
   "outputs": [],
   "source": [
    "with open(face.family_name.decode() + '.fnt', 'wb') as f:\n",
    "    f.write(font_header_bs)\n",
    "    f.write(name)\n",
    "    f.write(b'\\x00')\n",
    "    f.write(glyph_description_bs)\n",
    "    f.write(glyph_data_bs)"
   ]
  },
  {
   "cell_type": "markdown",
   "id": "813e2967-d245-4f9d-98f3-108f9c2f929f",
   "metadata": {},
   "source": [
    "# Preview and check scaling"
   ]
  },
  {
   "cell_type": "code",
   "execution_count": 15,
   "id": "66839498-815f-48ca-9cdb-ccd893e3168f",
   "metadata": {
    "scrolled": true
   },
   "outputs": [
    {
     "data": {
      "image/jpeg": "[encoded data removed]",
      "image/png": "[encoded data removed]",
      "text/plain": [
       "<PIL.Image.Image image mode=L size=2048x32>"
      ]
     },
     "execution_count": 15,
     "metadata": {},
     "output_type": "execute_result"
    }
   ],
   "source": [
    "img_all = Image.new('L', (2048, 32), 0x22)\n",
    "cur_x = 0\n",
    "\n",
    "# bb_height, yshift = get_y_stats(glyph_props)\n",
    "# print('bb_height:', bb_height, 'yshift:', yshift)\n",
    "yshift = 0\n",
    "\n",
    "for i, p in enumerate(glyph_props):\n",
    "    img_all.paste(getImg(i), (cur_x + p[\"lsb\"], -p[\"tsb\"] + 32 - yshift))\n",
    "    cur_x += p[\"advance\"]\n",
    "\n",
    "img_all"
   ]
  },
  {
   "cell_type": "markdown",
   "id": "791c135b-aaa6-4ce4-9880-7238d7b76d29",
   "metadata": {},
   "source": [
    "# Debug"
   ]
  },
  {
   "cell_type": "code",
   "execution_count": 15,
   "id": "e784cc1e-a7c3-41b9-92c4-277dce8fcfcb",
   "metadata": {},
   "outputs": [
    {
     "ename": "NameError",
     "evalue": "name 'getImg' is not defined",
     "output_type": "error",
     "traceback": [
      "\u001b[0;31m---------------------------------------------------------------------------\u001b[0m",
      "\u001b[0;31mNameError\u001b[0m                                 Traceback (most recent call last)",
      "Cell \u001b[0;32mIn[15], line 1\u001b[0m\n\u001b[0;32m----> 1\u001b[0m img \u001b[38;5;241m=\u001b[39m \u001b[43mgetImg\u001b[49m(\u001b[38;5;241m94\u001b[39m, \u001b[38;5;28;01mTrue\u001b[39;00m)\n\u001b[1;32m      2\u001b[0m img\n",
      "\u001b[0;31mNameError\u001b[0m: name 'getImg' is not defined"
     ]
    }
   ],
   "source": [
    "img = getImg(94, True)\n",
    "img"
   ]
  },
  {
   "cell_type": "code",
   "execution_count": 16,
   "id": "6c565fca-94ea-45a3-baae-f788c1c95fdc",
   "metadata": {},
   "outputs": [],
   "source": [
    "import freetype as ft"
   ]
  },
  {
   "cell_type": "code",
   "execution_count": 17,
   "id": "ebf1b4c7-ae85-4914-b01c-3f3b7c1cb674",
   "metadata": {},
   "outputs": [],
   "source": [
    "from font_converter import get_glyph, get_img"
   ]
  },
  {
   "cell_type": "code",
   "execution_count": 18,
   "id": "0a899227-7e79-4477-8f87-e8ca8ef04f97",
   "metadata": {},
   "outputs": [],
   "source": [
    "face = ft.Face('./ttf/135atom_sans.ttf')"
   ]
  },
  {
   "cell_type": "code",
   "execution_count": 19,
   "id": "34dbd8cc-4474-4cca-ae7f-cddbabcb7305",
   "metadata": {},
   "outputs": [],
   "source": [
    "face.set_char_size(64 * 48)"
   ]
  },
  {
   "cell_type": "code",
   "execution_count": 33,
   "id": "23661098-2c00-43d2-8e1d-d74407d7ba16",
   "metadata": {},
   "outputs": [
    {
     "name": "stdout",
     "output_type": "stream",
     "text": [
      "{'width': 14, 'height': 26, 'lsb': -1, 'tsb': 25, 'advance': 13, 'start_index': 0}\n"
     ]
    },
    {
     "data": {
      "image/jpeg": "[encoded data removed]",
      "image/png": "[encoded data removed]",
      "text/plain": [
       "<PIL.Image.Image image mode=L size=14x26>"
      ]
     },
     "execution_count": 33,
     "metadata": {},
     "output_type": "execute_result"
    }
   ],
   "source": [
    "bs, p = get_glyph(65, face, True, 32)\n",
    "p['start_index'] = 0\n",
    "\n",
    "img = get_img(p, bs)\n",
    "print(p)\n",
    "img"
   ]
  },
  {
   "cell_type": "code",
   "execution_count": 35,
   "id": "b30eec6f-4924-4688-b9e0-f154b5d6ff7f",
   "metadata": {},
   "outputs": [],
   "source": [
    "img_ = img.convert(\"RGBA\")"
   ]
  },
  {
   "cell_type": "code",
   "execution_count": 36,
   "id": "2b9c95e7-6ae2-4f89-b10f-cb7c7b6f69ac",
   "metadata": {},
   "outputs": [
    {
     "data": {
      "text/plain": [
       "'L'"
      ]
     },
     "execution_count": 36,
     "metadata": {},
     "output_type": "execute_result"
    }
   ],
   "source": [
    "img.mode"
   ]
  },
  {
   "cell_type": "code",
   "execution_count": 37,
   "id": "89b1b7ab-0015-4aa5-9ef2-792a8c9dcb54",
   "metadata": {},
   "outputs": [],
   "source": [
    "img_.putalpha(img)"
   ]
  },
  {
   "cell_type": "code",
   "execution_count": 51,
   "id": "e994741c-50e9-4111-960d-ad9f86b2b263",
   "metadata": {},
   "outputs": [
    {
     "data": {
      "image/png": "[encoded data removed]",
      "text/plain": [
       "<PIL.Image.Image image mode=RGBA size=14x26>"
      ]
     },
     "execution_count": 51,
     "metadata": {},
     "output_type": "execute_result"
    }
   ],
   "source": [
    "img_ = Image.new(\"RGBA\", img.size, 0xFFFFFF)\n",
    "img_.putalpha(img)\n",
    "img_"
   ]
  },
  {
   "cell_type": "code",
   "execution_count": 11,
   "id": "772306a8-0bdd-4ffd-bc10-5cf80e7a2226",
   "metadata": {},
   "outputs": [],
   "source": [
    "face.select_charmap(ft.FT_ENCODING_UNICODE)\n",
    "face.load_char(65, ft.FT_LOAD_DEFAULT | ft.FT_LOAD_NO_BITMAP)\n",
    "glyph = face.glyph.get_glyph()\n",
    "\n",
    "blyph = glyph.to_bitmap(ft.FT_RENDER_MODE_NORMAL, ft.Vector(0,0), True)\n",
    "bitmap = blyph.bitmap"
   ]
  },
  {
   "cell_type": "code",
   "execution_count": 71,
   "id": "08cf10d8-ed30-4ef3-bd9c-c2f4a7d8215c",
   "metadata": {},
   "outputs": [
    {
     "data": {
      "text/plain": [
       "36"
      ]
     },
     "execution_count": 71,
     "metadata": {},
     "output_type": "execute_result"
    }
   ],
   "source": [
    "blyph.bitmap."
   ]
  },
  {
   "cell_type": "code",
   "execution_count": 12,
   "id": "2629e0da-9f99-4e3e-8fd6-528732e7185b",
   "metadata": {},
   "outputs": [
    {
     "ename": "NameError",
     "evalue": "name 'radius' is not defined",
     "output_type": "error",
     "traceback": [
      "\u001b[0;31m---------------------------------------------------------------------------\u001b[0m",
      "\u001b[0;31mNameError\u001b[0m                                 Traceback (most recent call last)",
      "Cell \u001b[0;32mIn[12], line 2\u001b[0m\n\u001b[1;32m      1\u001b[0m stroker \u001b[38;5;241m=\u001b[39m ft\u001b[38;5;241m.\u001b[39mStroker()\n\u001b[0;32m----> 2\u001b[0m stroker\u001b[38;5;241m.\u001b[39mset(\u001b[43mradius\u001b[49m, ft\u001b[38;5;241m.\u001b[39mFT_STROKER_LINECAP_ROUND, ft\u001b[38;5;241m.\u001b[39mFT_STROKER_LINEJOIN_ROUND, \u001b[38;5;241m0\u001b[39m)\n\u001b[1;32m      3\u001b[0m glyph\u001b[38;5;241m.\u001b[39mstroke(stroker , \u001b[38;5;28;01mTrue\u001b[39;00m)\n",
      "\u001b[0;31mNameError\u001b[0m: name 'radius' is not defined"
     ]
    }
   ],
   "source": [
    "stroker = ft.Stroker()\n",
    "stroker.set(radius, ft.FT_STROKER_LINECAP_ROUND, ft.FT_STROKER_LINEJOIN_ROUND, 0)\n",
    "glyph.stroke(stroker , True)\n"
   ]
  },
  {
   "cell_type": "code",
   "execution_count": 13,
   "id": "97c11682-9a1e-4d79-9b69-afba876507a9",
   "metadata": {},
   "outputs": [
    {
     "data": {
      "text/plain": [
       "\u001b[0;31mType:\u001b[0m           Stroker\n",
       "\u001b[0;31mString form:\u001b[0m    <freetype.Stroker object at 0x7f6e784f0d10>\n",
       "\u001b[0;31mFile:\u001b[0m           ~/.virtualenvs/ipy/lib/python3.12/site-packages/freetype/__init__.py\n",
       "\u001b[0;31mDocstring:\u001b[0m     \n",
       "FT_Stroker wrapper\n",
       "\n",
       "This component generates stroked outlines of a given vectorial glyph. It\n",
       "also allows you to retrieve the 'outside' and/or the 'inside' borders of\n",
       "the stroke.\n",
       "\n",
       "This can be useful to generate 'bordered' glyph, i.e., glyphs displayed\n",
       "with a coloured (and anti-aliased) border around their shape.\n",
       "\u001b[0;31mInit docstring:\u001b[0m Create a new Stroker object."
      ]
     },
     "metadata": {},
     "output_type": "display_data"
    }
   ],
   "source": [
    "ft.Stroker("
   ]
  },
  {
   "cell_type": "code",
   "execution_count": 14,
   "id": "fb3e86ec-9b09-41b3-9239-354397121f78",
   "metadata": {},
   "outputs": [],
   "source": [
    "from PIL import Image"
   ]
  },
  {
   "cell_type": "code",
   "execution_count": null,
   "id": "3f7400c0-b103-43c9-8c34-145b08f1e68b",
   "metadata": {},
   "outputs": [],
   "source": [
    "get_g"
   ]
  }
 ],
 "metadata": {
  "kernelspec": {
   "display_name": "ipy",
   "language": "python",
   "name": "ipy"
  },
  "language_info": {
   "codemirror_mode": {
    "name": "ipython",
    "version": 3
   },
   "file_extension": ".py",
   "mimetype": "text/x-python",
   "name": "python",
   "nbconvert_exporter": "python",
   "pygments_lexer": "ipython3",
   "version": "3.12.6"
  }
 },
 "nbformat": 4,
 "nbformat_minor": 5
}
